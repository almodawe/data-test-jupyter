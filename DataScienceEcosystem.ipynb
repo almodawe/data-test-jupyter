{
 "cells": [
  {
   "cell_type": "markdown",
   "id": "2413cae5",
   "metadata": {},
   "source": [
    "## Author\n",
    "\n",
    "Ala'a Ahmed Alrefai"
   ]
  },
  {
   "cell_type": "markdown",
   "id": "ba11369c",
   "metadata": {},
   "source": [
    "In this notebook, Data Science Tools and Ecosystem are summarized."
   ]
  },
  {
   "cell_type": "markdown",
   "id": "dc1fc08d",
   "metadata": {},
   "source": [
    "__Objectives:__\n",
    "* Data scince tools\n",
    "* Data science library\n",
    "* Markdown in Jupyter"
   ]
  },
  {
   "cell_type": "code",
   "execution_count": 6,
   "id": "b57cdf6c",
   "metadata": {},
   "outputs": [
    {
     "data": {
      "text/plain": [
       "3.3333333333333335"
      ]
     },
     "execution_count": 6,
     "metadata": {},
     "output_type": "execute_result"
    }
   ],
   "source": [
    "# This will convert 200 minutes to hours by diving by 60\n",
    "200/60"
   ]
  },
  {
   "cell_type": "code",
   "execution_count": 5,
   "id": "df98c688",
   "metadata": {},
   "outputs": [
    {
     "data": {
      "text/plain": [
       "17"
      ]
     },
     "execution_count": 5,
     "metadata": {},
     "output_type": "execute_result"
    }
   ],
   "source": [
    "# This a simple arithmetic expression to mutiply then add integers\n",
    "(3*4)+5"
   ]
  },
  {
   "cell_type": "markdown",
   "id": "2fba14ec",
   "metadata": {},
   "source": [
    "### Below are a few examples of evaluating arithmetic expressions in Python"
   ]
  },
  {
   "cell_type": "markdown",
   "id": "1495907a",
   "metadata": {},
   "source": [
    "|Data Science Tools|\n",
    "|------|\n",
    "|Rstudio|\n",
    "|Apache|\n",
    "|tensorflow|\n"
   ]
  },
  {
   "cell_type": "markdown",
   "id": "349cc2d6",
   "metadata": {},
   "source": [
    "Some of the commonly used libraries used by Data Scientists include:"
   ]
  },
  {
   "cell_type": "markdown",
   "id": "95a9442d",
   "metadata": {},
   "source": [
    "1. Panda\n",
    "2. Numpy\n",
    "3. Matplotlib"
   ]
  },
  {
   "cell_type": "markdown",
   "id": "09301400",
   "metadata": {},
   "source": [
    "Some of the popular languages that Data Scientists use are:\n",
    "1. Python\n",
    "2. Julia\n",
    "3. R\n",
    "4. SQL"
   ]
  },
  {
   "cell_type": "markdown",
   "id": "a265a837",
   "metadata": {},
   "source": [
    "# Data Science Tools and Ecosystem"
   ]
  },
  {
   "cell_type": "code",
   "execution_count": null,
   "id": "dcb93e1c",
   "metadata": {},
   "outputs": [],
   "source": []
  },
  {
   "cell_type": "code",
   "execution_count": null,
   "id": "d292e238",
   "metadata": {},
   "outputs": [],
   "source": []
  },
  {
   "cell_type": "code",
   "execution_count": null,
   "id": "da0660d2",
   "metadata": {},
   "outputs": [],
   "source": []
  },
  {
   "cell_type": "markdown",
   "id": "1883a707",
   "metadata": {},
   "source": [
    "# In this notebook, Data Science Tools and Ecosystem are summarized."
   ]
  },
  {
   "cell_type": "markdown",
   "id": "ccbda9af",
   "metadata": {},
   "source": [
    "# Some of the popular languages that Data Scientists use are:\n",
    "## 1-Python\n",
    "## 2-R\n",
    "## 3-SQL\n",
    "## 4-Julia\n"
   ]
  },
  {
   "cell_type": "markdown",
   "id": "cb04e3c6",
   "metadata": {},
   "source": [
    "# Some of the commonly used libraries used by Data Scientists include:\n",
    "## 1-Panda\n",
    "## 2-Numpy\n",
    "## 3-Matplotlib"
   ]
  },
  {
   "cell_type": "markdown",
   "id": "706f0f33",
   "metadata": {},
   "source": [
    "[djdjf](https://www.coursera.org/)"
   ]
  },
  {
   "cell_type": "markdown",
   "id": "07d49f91",
   "metadata": {},
   "source": [
    "logo: ![thos id pic](\"C:\\Users\\ALMODAWE\\Desktop\\5-dslibraries.png\")"
   ]
  },
  {
   "cell_type": "markdown",
   "id": "98a13c56",
   "metadata": {},
   "source": [
    "|country|capital|\n",
    "|-------|-------|\n",
    "|jordan|amman|\n",
    "|syria|dimascus|"
   ]
  },
  {
   "cell_type": "markdown",
   "id": "df68622e",
   "metadata": {},
   "source": [
    "|Fruits | Quantity(Kg) | Price(In Rupee) | \n",
    "| ------ | ------ | ------ | \n",
    "| Apple | 2 |500|\n",
    "|Orange | 1 |200|\n",
    "| Mango | 3 |1000|\n",
    "| Grapes | 2 |400|"
   ]
  },
  {
   "cell_type": "markdown",
   "id": "89d6eafe",
   "metadata": {},
   "source": [
    "|Fruits|Quantity(Kg)|Price(In Rupee)|\n",
    "|------------|----------------|-----------------|\n",
    "|Apple|   2|   500|\n",
    "|Orange|1|200\n",
    "|Mango|3|1000|\n",
    "|Grapes|2|400|"
   ]
  },
  {
   "cell_type": "code",
   "execution_count": null,
   "id": "00210055",
   "metadata": {},
   "outputs": [],
   "source": []
  }
 ],
 "metadata": {
  "kernelspec": {
   "display_name": "Python 3 (ipykernel)",
   "language": "python",
   "name": "python3"
  },
  "language_info": {
   "codemirror_mode": {
    "name": "ipython",
    "version": 3
   },
   "file_extension": ".py",
   "mimetype": "text/x-python",
   "name": "python",
   "nbconvert_exporter": "python",
   "pygments_lexer": "ipython3",
   "version": "3.9.13"
  }
 },
 "nbformat": 4,
 "nbformat_minor": 5
}
